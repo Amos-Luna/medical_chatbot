{
 "cells": [
  {
   "cell_type": "code",
   "execution_count": 4,
   "metadata": {},
   "outputs": [
    {
     "name": "stdout",
     "output_type": "stream",
     "text": [
      "[Document(metadata={'source': 'state_of_the_union.txt'}, page_content='Hola como estan?\\nGuston en saludarlos\\nGaaaaaa')]\n"
     ]
    }
   ],
   "source": [
    "from langchain_community.document_loaders import TextLoader\n",
    "from langchain_community.vectorstores import FAISS\n",
    "from langchain_openai import OpenAIEmbeddings\n",
    "from langchain_text_splitters import CharacterTextSplitter\n",
    "\n",
    "loader = TextLoader(\"state_of_the_union.txt\")\n",
    "documents = loader.load()\n",
    "text_splitter = CharacterTextSplitter(chunk_size=1000, chunk_overlap=0)\n",
    "docs = text_splitter.split_documents(documents)\n",
    "print(docs)\n"
   ]
  },
  {
   "cell_type": "code",
   "execution_count": null,
   "metadata": {},
   "outputs": [],
   "source": []
  },
  {
   "cell_type": "code",
   "execution_count": null,
   "metadata": {},
   "outputs": [],
   "source": []
  },
  {
   "cell_type": "code",
   "execution_count": null,
   "metadata": {},
   "outputs": [],
   "source": [
    "data = {'messages': [HumanMessage(content='Can I develop allergies as an adult?', additional_kwargs={}, response_metadata={}, id='a5b2968d-f516-4847-a5c4-bdbec424f033'), AIMessage(content='', additional_kwargs={'tool_calls': [{'id': 'call_5noxxCu25ZyteUP7hfVpA8r5', 'function': {'arguments': '{\"user_message\":\"Can I develop allergies as an adult?\"}', 'name': 'allergy_retriever'}, 'type': 'function'}], 'refusal': None}, response_metadata={'token_usage': {'completion_tokens': 26, 'prompt_tokens': 219, 'total_tokens': 245, 'completion_tokens_details': {'accepted_prediction_tokens': 0, 'audio_tokens': 0, 'reasoning_tokens': 0, 'rejected_prediction_tokens': 0}, 'prompt_tokens_details': {'audio_tokens': 0, 'cached_tokens': 0}}, 'model_name': 'gpt-4o-mini-2024-07-18', 'system_fingerprint': 'fp_0392822090', 'id': 'chatcmpl-BPzuVeWolxjutqurYwsoy2HnDqpZq', 'finish_reason': 'tool_calls', 'logprobs': None}, id='run-4f549c72-edf8-483b-b981-b932f0db9378-0', tool_calls=[{'name': 'allergy_retriever', 'args': {'user_message': 'Can I develop allergies as an adult?'}, 'id': 'call_5noxxCu25ZyteUP7hfVpA8r5', 'type': 'tool_call'}], usage_metadata={'input_tokens': 219, 'output_tokens': 26, 'total_tokens': 245, 'input_token_details': {'audio': 0, 'cache_read': 0}, 'output_token_details': {'audio': 0, 'reasoning': 0}}), ToolMessage(content=\"[Document(id='6ee41771-bca7-493b-8984-c3a6c4266ff6', metadata={'question': 'Can I develop allergies as an adult?', 'answer': 'Yes, allergies can develop at any age due to immune system changes.'}, page_content='user question ->: Can I develop allergies as an adult?\\\\ndoctor answer ->: Yes, allergies can develop at any age due to immune system changes.'), Document(id='7cf66d13-4a8b-418c-b808-66f233b90fde', metadata={'question': 'Can seasonal allergies cause a sore throat?', 'answer': 'Yes, postnasal drip from allergies can irritate your throat.'}, page_content='user question ->: Can seasonal allergies cause a sore throat?\\\\ndoctor answer ->: Yes, postnasal drip from allergies can irritate your throat.'), Document(id='a592d475-1853-48f5-8154-d4cc6576d4fe', metadata={'question': 'Why do I get a rash after eating shellfish?', 'answer': 'You may have a shellfish allergy. Avoid consumption and consider seeing an allergist.'}, page_content='user question ->: Why do I get a rash after eating shellfish?\\\\ndoctor answer ->: You may have a shellfish allergy. Avoid consumption and consider seeing an allergist.'), Document(id='50b40b27-0a30-4525-a67c-ee8c8cffeaac', metadata={'question': 'Is constant nasal congestion a sign of allergies?', 'answer': 'Yes, chronic congestion is a common symptom of allergic rhinitis.'}, page_content='user question ->: Is constant nasal congestion a sign of allergies?\\\\ndoctor answer ->: Yes, chronic congestion is a common symptom of allergic rhinitis.')]\", name='allergy_retriever', id='10448dbb-ec97-4200-9ba5-0e15806ac847', tool_call_id='call_5noxxCu25ZyteUP7hfVpA8r5')], 'allergy_result': 'content=\\'\\' additional_kwargs={\\'tool_calls\\': [{\\'id\\': \\'call_5noxxCu25ZyteUP7hfVpA8r5\\', \\'function\\': {\\'arguments\\': \\'{\"user_message\":\"Can I develop allergies as an adult?\"}\\', \\'name\\': \\'allergy_retriever\\'}, \\'type\\': \\'function\\'}], \\'refusal\\': None} response_metadata={\\'token_usage\\': {\\'completion_tokens\\': 26, \\'prompt_tokens\\': 219, \\'total_tokens\\': 245, \\'completion_tokens_details\\': {\\'accepted_prediction_tokens\\': 0, \\'audio_tokens\\': 0, \\'reasoning_tokens\\': 0, \\'rejected_prediction_tokens\\': 0}, \\'prompt_tokens_details\\': {\\'audio_tokens\\': 0, \\'cached_tokens\\': 0}}, \\'model_name\\': \\'gpt-4o-mini-2024-07-18\\', \\'system_fingerprint\\': \\'fp_0392822090\\', \\'id\\': \\'chatcmpl-BPzuVeWolxjutqurYwsoy2HnDqpZq\\', \\'finish_reason\\': \\'tool_calls\\', \\'logprobs\\': None} id=\\'run-4f549c72-edf8-483b-b981-b932f0db9378-0\\' tool_calls=[{\\'name\\': \\'allergy_retriever\\', \\'args\\': {\\'user_message\\': \\'Can I develop allergies as an adult?\\'}, \\'id\\': \\'call_5noxxCu25ZyteUP7hfVpA8r5\\', \\'type\\': \\'tool_call\\'}] usage_metadata={\\'input_tokens\\': 219, \\'output_tokens\\': 26, \\'total_tokens\\': 245, \\'input_token_details\\': {\\'audio\\': 0, \\'cache_read\\': 0}, \\'output_token_details\\': {\\'audio\\': 0, \\'reasoning\\': 0}}', 'digestive_result': '', 'vision_loss_result': ''}"
   ]
  },
  {
   "cell_type": "markdown",
   "metadata": {},
   "source": [
    "{\n",
    "    'messages': [\n",
    "        HumanMessage(content='Can I develop allergies as an adult?', additional_kwargs={}, response_metadata={}, id='a5b2968d-f516-4847-a5c4-bdbec424f033'), \n",
    "        \n",
    "        AIMessage(content='', additional_kwargs={'tool_calls': [{'id': 'call_5noxxCu25ZyteUP7hfVpA8r5', 'function': {'arguments': '{\"user_message\":\"Can I develop allergies as an adult?\"}', 'name': 'allergy_retriever'}, 'type': 'function'}], 'refusal': None}, response_metadata={'token_usage': {'completion_tokens': 26, 'prompt_tokens': 219, 'total_tokens': 245, 'completion_tokens_details': {'accepted_prediction_tokens': 0, 'audio_tokens': 0, 'reasoning_tokens': 0, 'rejected_prediction_tokens': 0}, 'prompt_tokens_details': {'audio_tokens': 0, 'cached_tokens': 0}}, 'model_name': 'gpt-4o-mini-2024-07-18', 'system_fingerprint': 'fp_0392822090', 'id': 'chatcmpl-BPzuVeWolxjutqurYwsoy2HnDqpZq', 'finish_reason': 'tool_calls', 'logprobs': None}, id='run-4f549c72-edf8-483b-b981-b932f0db9378-0', tool_calls=[{'name': 'allergy_retriever', 'args': {'user_message': 'Can I develop allergies as an adult?'}, 'id': 'call_5noxxCu25ZyteUP7hfVpA8r5', 'type': 'tool_call'}], usage_metadata={'input_tokens': 219, 'output_tokens': 26, 'total_tokens': 245, 'input_token_details': {'audio': 0, 'cache_read': 0}, 'output_token_details': {'audio': 0, 'reasoning': 0}}), \n",
    "        \n",
    "        ToolMessage(content=\"[Document(id='6ee41771-bca7-493b-8984-c3a6c4266ff6', metadata={'question': 'Can I develop allergies as an adult?', 'answer': 'Yes, allergies can develop at any age due to immune system changes.'}, page_content='user question ->: Can I develop allergies as an adult?\\\\ndoctor answer ->: Yes, allergies can develop at any age due to immune system changes.'), Document(id='7cf66d13-4a8b-418c-b808-66f233b90fde', metadata={'question': 'Can seasonal allergies cause a sore throat?', 'answer': 'Yes, postnasal drip from allergies can irritate your throat.'}, page_content='user question ->: Can seasonal allergies cause a sore throat?\\\\ndoctor answer ->: Yes, postnasal drip from allergies can irritate your throat.'), Document(id='a592d475-1853-48f5-8154-d4cc6576d4fe', metadata={'question': 'Why do I get a rash after eating shellfish?', 'answer': 'You may have a shellfish allergy. Avoid consumption and consider seeing an allergist.'}, page_content='user question ->: Why do I get a rash after eating shellfish?\\\\ndoctor answer ->: You may have a shellfish allergy. Avoid consumption and consider seeing an allergist.'), Document(id='50b40b27-0a30-4525-a67c-ee8c8cffeaac', metadata={'question': 'Is constant nasal congestion a sign of allergies?', 'answer': 'Yes, chronic congestion is a common symptom of allergic rhinitis.'}, page_content='user question ->: Is constant nasal congestion a sign of allergies?\\\\ndoctor answer ->: Yes, chronic congestion is a common symptom of allergic rhinitis.')]\", \n",
    "        name='allergy_retriever', \n",
    "        id='10448dbb-ec97-4200-9ba5-0e15806ac847', \n",
    "        tool_call_id='call_5noxxCu25ZyteUP7hfVpA8r5')\n",
    "    ],\n",
    "        \n",
    "        'allergy_result': 'content=\\'\\' additional_kwargs={\\'tool_calls\\': [{\\'id\\': \\'call_5noxxCu25ZyteUP7hfVpA8r5\\', \\'function\\': {\\'arguments\\': \\'{\"user_message\":\"Can I develop allergies as an adult?\"}\\', \\'name\\': \\'allergy_retriever\\'}, \\'type\\': \\'function\\'}], \\'refusal\\': None} response_metadata={\\'token_usage\\': {\\'completion_tokens\\': 26, \\'prompt_tokens\\': 219, \\'total_tokens\\': 245, \\'completion_tokens_details\\': {\\'accepted_prediction_tokens\\': 0, \\'audio_tokens\\': 0, \\'reasoning_tokens\\': 0, \\'rejected_prediction_tokens\\': 0}, \\'prompt_tokens_details\\': {\\'audio_tokens\\': 0, \\'cached_tokens\\': 0}}, \\'model_name\\': \\'gpt-4o-mini-2024-07-18\\', \\'system_fingerprint\\': \\'fp_0392822090\\', \\'id\\': \\'chatcmpl-BPzuVeWolxjutqurYwsoy2HnDqpZq\\', \\'finish_reason\\': \\'tool_calls\\', \\'logprobs\\': None} id=\\'run-4f549c72-edf8-483b-b981-b932f0db9378-0\\' tool_calls=[{\\'name\\': \\'allergy_retriever\\', \\'args\\': {\\'user_message\\': \\'Can I develop allergies as an adult?\\'}, \\'id\\': \\'call_5noxxCu25ZyteUP7hfVpA8r5\\', \\'type\\': \\'tool_call\\'}] usage_metadata={\\'input_tokens\\': 219, \\'output_tokens\\': 26, \\'total_tokens\\': 245, \\'input_token_details\\': {\\'audio\\': 0, \\'cache_read\\': 0}, \\'output_token_details\\': {\\'audio\\': 0, \\'reasoning\\': 0}}', 'digestive_result': '', 'vision_loss_result': ''}"
   ]
  },
  {
   "cell_type": "code",
   "execution_count": 17,
   "metadata": {},
   "outputs": [
    {
     "data": {
      "text/plain": [
       "[Document(metadata={'question': 'Why do I get a rash after eating shellfish?', 'answer': 'You may have a shellfish allergy. Avoid consumption and consider seeing an allergist.'}, page_content='user question ->: Why do I get a rash after eating shellfish?\\ndoctor answer ->: You may have a shellfish allergy. Avoid consumption and consider seeing an allergist.'),\n",
       " Document(metadata={'question': 'Can seasonal allergies cause a sore throat?', 'answer': 'Yes, postnasal drip from allergies can irritate your throat.'}, page_content='user question ->: Can seasonal allergies cause a sore throat?\\ndoctor answer ->: Yes, postnasal drip from allergies can irritate your throat.'),\n",
       " Document(metadata={'question': \"Why do my eyes itch when I'm near cats?\", 'answer': 'This is likely a pet dander allergy. Antihistamines or allergy shots may help.'}, page_content=\"user question ->: Why do my eyes itch when I'm near cats?\\ndoctor answer ->: This is likely a pet dander allergy. Antihistamines or allergy shots may help.\"),\n",
       " Document(metadata={'question': 'Is it normal to have hives after taking a new medication?', 'answer': 'Hives can be a sign of an allergic reaction. Stop the medication and contact your doctor.'}, page_content='user question ->: Is it normal to have hives after taking a new medication?\\ndoctor answer ->: Hives can be a sign of an allergic reaction. Stop the medication and contact your doctor.'),\n",
       " Document(metadata={'question': 'Why do I sneeze after cleaning the house?', 'answer': 'Dust mites or mold could be the cause. Use a mask and clean with HEPA filters.'}, page_content='user question ->: Why do I sneeze after cleaning the house?\\ndoctor answer ->: Dust mites or mold could be the cause. Use a mask and clean with HEPA filters.'),\n",
       " Document(metadata={'question': 'What causes my lips to swell after eating nuts?', 'answer': 'This is a common sign of a nut allergy. Avoid nuts and consult an allergist.'}, page_content='user question ->: What causes my lips to swell after eating nuts?\\ndoctor answer ->: This is a common sign of a nut allergy. Avoid nuts and consult an allergist.'),\n",
       " Document(metadata={'question': 'Why does my skin break out after using new soap?', 'answer': 'Fragrances or chemicals in the soap could trigger a contact allergy.'}, page_content='user question ->: Why does my skin break out after using new soap?\\ndoctor answer ->: Fragrances or chemicals in the soap could trigger a contact allergy.'),\n",
       " Document(metadata={'question': 'Can I develop allergies as an adult?', 'answer': 'Yes, allergies can develop at any age due to immune system changes.'}, page_content='user question ->: Can I develop allergies as an adult?\\ndoctor answer ->: Yes, allergies can develop at any age due to immune system changes.'),\n",
       " Document(metadata={'question': 'Is constant nasal congestion a sign of allergies?', 'answer': 'Yes, chronic congestion is a common symptom of allergic rhinitis.'}, page_content='user question ->: Is constant nasal congestion a sign of allergies?\\ndoctor answer ->: Yes, chronic congestion is a common symptom of allergic rhinitis.'),\n",
       " Document(metadata={'question': 'What’s the best way to treat hay fever?', 'answer': 'Antihistamines, nasal corticosteroids, and avoiding triggers are effective.'}, page_content='user question ->: What’s the best way to treat hay fever?\\ndoctor answer ->: Antihistamines, nasal corticosteroids, and avoiding triggers are effective.')]"
      ]
     },
     "execution_count": 17,
     "metadata": {},
     "output_type": "execute_result"
    }
   ],
   "source": [
    "import pandas as pd\n",
    "from langchain_core.documents import Document\n",
    "\n",
    "\n",
    "path = \"specialized_medical_qa_dataset.xlsx\"\n",
    "\n",
    "df = pd.read_excel(path, engine=\"openpyxl\")\n",
    "df[\"mixed_text\"] = \"user question ->: \" + df[\"question\"] + \"\\n\" + \"doctor answer ->: \" + df[\"answer\"]\n",
    "\n",
    "docs = [\n",
    "    Document(\n",
    "        page_content=row[\"mixed_text\"], \n",
    "        metadata={\n",
    "            \"question\": row[\"question\"], \n",
    "            \"answer\": row[\"answer\"]\n",
    "        }\n",
    "    ) for _, row in df.iterrows()\n",
    "]\n",
    "\n",
    "docs"
   ]
  },
  {
   "cell_type": "code",
   "execution_count": 18,
   "metadata": {},
   "outputs": [
    {
     "name": "stdout",
     "output_type": "stream",
     "text": [
      "10\n"
     ]
    }
   ],
   "source": [
    "embeddings = OpenAIEmbeddings()\n",
    "db = FAISS.from_documents(docs, embeddings)\n",
    "print(db.index.ntotal)"
   ]
  },
  {
   "cell_type": "code",
   "execution_count": 26,
   "metadata": {},
   "outputs": [],
   "source": [
    "query = \"What cause a sore throat?\"\n",
    "\n",
    "retriever = db.as_retriever(search_kwargs={\"k\": 4})\n",
    "docs = retriever.invoke(query)"
   ]
  },
  {
   "cell_type": "code",
   "execution_count": 29,
   "metadata": {},
   "outputs": [
    {
     "name": "stdout",
     "output_type": "stream",
     "text": [
      "user question ->: Can seasonal allergies cause a sore throat?\n",
      "doctor answer ->: Yes, postnasal drip from allergies can irritate your throat.\n",
      "--- <chunk/> ---\n",
      "user question ->: Why do I sneeze after cleaning the house?\n",
      "doctor answer ->: Dust mites or mold could be the cause. Use a mask and clean with HEPA filters.\n",
      "--- <chunk/> ---\n",
      "user question ->: Is constant nasal congestion a sign of allergies?\n",
      "doctor answer ->: Yes, chronic congestion is a common symptom of allergic rhinitis.\n",
      "--- <chunk/> ---\n",
      "user question ->: Why do I get a rash after eating shellfish?\n",
      "doctor answer ->: You may have a shellfish allergy. Avoid consumption and consider seeing an allergist.\n"
     ]
    }
   ],
   "source": [
    "print(\"\\n--- <chunk/> ---\\n\".join([doc.page_content for doc in docs]))\n"
   ]
  },
  {
   "cell_type": "code",
   "execution_count": null,
   "metadata": {},
   "outputs": [],
   "source": []
  }
 ],
 "metadata": {
  "kernelspec": {
   "display_name": "venv",
   "language": "python",
   "name": "python3"
  },
  "language_info": {
   "codemirror_mode": {
    "name": "ipython",
    "version": 3
   },
   "file_extension": ".py",
   "mimetype": "text/x-python",
   "name": "python",
   "nbconvert_exporter": "python",
   "pygments_lexer": "ipython3",
   "version": "3.10.11"
  }
 },
 "nbformat": 4,
 "nbformat_minor": 2
}
